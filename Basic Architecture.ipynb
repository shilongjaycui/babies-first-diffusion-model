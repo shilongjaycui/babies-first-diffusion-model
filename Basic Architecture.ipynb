{
 "cells": [
  {
   "cell_type": "markdown",
   "id": "4f6085c9",
   "metadata": {},
   "source": [
    "## Imports "
   ]
  },
  {
   "cell_type": "code",
   "execution_count": 1,
   "id": "b10e3b66",
   "metadata": {},
   "outputs": [
    {
     "name": "stderr",
     "output_type": "stream",
     "text": [
      "/Users/harrysullivan/anaconda3/lib/python3.10/site-packages/tqdm/auto.py:22: TqdmWarning: IProgress not found. Please update jupyter and ipywidgets. See https://ipywidgets.readthedocs.io/en/stable/user_install.html\n",
      "  from .autonotebook import tqdm as notebook_tqdm\n"
     ]
    }
   ],
   "source": [
    "import numpy as np\n",
    "import matplotlib.pyplot as plt\n",
    "from pickle import dump,load\n",
    "import torch\n",
    "from collections import OrderedDict\n",
    "import torch\n",
    "import torch.nn as nn"
   ]
  },
  {
   "cell_type": "code",
   "execution_count": 52,
   "id": "7b645b57",
   "metadata": {},
   "outputs": [
    {
     "data": {
      "text/plain": [
       "False"
      ]
     },
     "execution_count": 52,
     "metadata": {},
     "output_type": "execute_result"
    }
   ],
   "source": [
    "torch.backends.mps.is_available()"
   ]
  },
  {
   "cell_type": "markdown",
   "id": "e02c0690",
   "metadata": {},
   "source": [
    "## Helpful Functions"
   ]
  },
  {
   "cell_type": "code",
   "execution_count": 2,
   "id": "6e16c4b2",
   "metadata": {},
   "outputs": [],
   "source": [
    "def unpickle(file):\n",
    "    import pickle\n",
    "    with open(file, 'rb') as fo:\n",
    "        dict = pickle.load(fo, encoding='bytes')\n",
    "    return dict"
   ]
  },
  {
   "cell_type": "markdown",
   "id": "32b68d65",
   "metadata": {},
   "source": [
    "## Basic Unet Architecture"
   ]
  },
  {
   "cell_type": "code",
   "execution_count": 48,
   "id": "1b3c5e2f",
   "metadata": {},
   "outputs": [],
   "source": [
    "class UNet(nn.Module):\n",
    "\n",
    "    def __init__(self, in_channels=3, out_channels=1, init_features=32):\n",
    "        super(UNet, self).__init__()\n",
    "\n",
    "        features = init_features\n",
    "        self.encoder1 = UNet._block(in_channels, features, name=\"enc1\")\n",
    "        self.pool1 = nn.MaxPool2d(kernel_size=2, stride=2)\n",
    "        self.encoder2 = UNet._block(features, features * 2, name=\"enc2\")\n",
    "        self.pool2 = nn.MaxPool2d(kernel_size=2, stride=2)\n",
    "        self.encoder3 = UNet._block(features * 2, features * 4, name=\"enc3\")\n",
    "        self.pool3 = nn.MaxPool2d(kernel_size=2, stride=2)\n",
    "        self.encoder4 = UNet._block(features * 4, features * 8, name=\"enc4\")\n",
    "        self.pool4 = nn.MaxPool2d(kernel_size=2, stride=2)\n",
    "\n",
    "        self.bottleneck = UNet._block(features * 8, features * 16, name=\"bottleneck\")\n",
    "\n",
    "        self.upconv4 = nn.ConvTranspose2d(\n",
    "            features * 16, features * 8, kernel_size=2, stride=2\n",
    "        )\n",
    "        self.decoder4 = UNet._block((features * 8) * 2, features * 8, name=\"dec4\")\n",
    "        self.upconv3 = nn.ConvTranspose2d(\n",
    "            features * 8, features * 4, kernel_size=2, stride=2\n",
    "        )\n",
    "        self.decoder3 = UNet._block((features * 4) * 2, features * 4, name=\"dec3\")\n",
    "        self.upconv2 = nn.ConvTranspose2d(\n",
    "            features * 4, features * 2, kernel_size=2, stride=2\n",
    "        )\n",
    "        self.decoder2 = UNet._block((features * 2) * 2, features * 2, name=\"dec2\")\n",
    "        self.upconv1 = nn.ConvTranspose2d(\n",
    "            features * 2, features, kernel_size=2, stride=2\n",
    "        )\n",
    "        self.decoder1 = UNet._block(features * 2, features, name=\"dec1\")\n",
    "\n",
    "        self.conv = nn.Conv2d(\n",
    "            in_channels=features, out_channels=out_channels, kernel_size=1\n",
    "        )\n",
    "\n",
    "    def forward(self, x):\n",
    "#         print(\"Size of input:\")\n",
    "#         print(x.size())\n",
    "#         print()\n",
    "        enc1 = self.encoder1(x)\n",
    "#         print(\"Size of Enc1 output:\")\n",
    "#         print(enc1.size())\n",
    "#         print()\n",
    "        enc2 = self.encoder2(self.pool1(enc1))\n",
    "#         print(\"Size of Enc2 output:\")\n",
    "#         print(enc2.size())\n",
    "#         print()\n",
    "        enc3 = self.encoder3(self.pool2(enc2))\n",
    "#         print(\"Size of Enc3 output:\")\n",
    "#         print(enc3.size())\n",
    "#         print()\n",
    "        enc4 = self.encoder4(self.pool3(enc3))\n",
    "#         print(\"Size of Enc4 output:\")\n",
    "#         print(enc4.size())\n",
    "#         print()\n",
    "\n",
    "        bottleneck = self.bottleneck(self.pool4(enc4))\n",
    "        \n",
    "#         print(\"Size of Bottleneck output:\")\n",
    "#         print(bottleneck.size())\n",
    "#         print()\n",
    "\n",
    "        dec4 = self.upconv4(bottleneck)    \n",
    "        dec4 = torch.cat((dec4, enc4), dim=1)\n",
    "        dec4 = self.decoder4(dec4)\n",
    "        \n",
    "#         print(\"Size of dec4 output:\")\n",
    "#         print(dec4.size())\n",
    "#         print()\n",
    "        \n",
    "        dec3 = self.upconv3(dec4)\n",
    "        \n",
    "#         print(\"Size of dec3 input pre cat:\")\n",
    "#         print(dec3.size())\n",
    "#         print()\n",
    "        \n",
    "        dec3 = torch.cat((dec3, enc3), dim=1)\n",
    "        \n",
    "#         print(\"Size of dec3 input post cat:\")\n",
    "#         print(dec3.size())\n",
    "#         print()\n",
    "        \n",
    "        dec3 = self.decoder3(dec3)\n",
    "        \n",
    "#         print(\"Size of dec3 output:\")\n",
    "#         print(dec3.size())\n",
    "#         print()\n",
    "        \n",
    "        dec2 = self.upconv2(dec3)\n",
    "        dec2 = torch.cat((dec2, enc2), dim=1)\n",
    "        dec2 = self.decoder2(dec2)\n",
    "        \n",
    "#         print(\"Size of dec2 output:\")\n",
    "#         print(dec2.size())\n",
    "#         print()\n",
    "        \n",
    "        dec1 = self.upconv1(dec2)\n",
    "        dec1 = torch.cat((dec1, enc1), dim=1)\n",
    "        dec1 = self.decoder1(dec1)\n",
    "        \n",
    "#         print(\"Size of dec1 output:\")\n",
    "#         print(dec1.size())\n",
    "#         print()\n",
    "        \n",
    "        return torch.sigmoid(self.conv(dec1))\n",
    "\n",
    "    @staticmethod\n",
    "    def _block(in_channels, features, name):\n",
    "        return nn.Sequential(\n",
    "            OrderedDict(\n",
    "                [\n",
    "                    (\n",
    "                        name + \"conv1\",\n",
    "                        nn.Conv2d(\n",
    "                            in_channels=in_channels,\n",
    "                            out_channels=features,\n",
    "                            kernel_size=3,\n",
    "                            padding=1,\n",
    "                            bias=False,\n",
    "                        ),\n",
    "                    ),\n",
    "                    (name + \"norm1\", nn.BatchNorm2d(num_features=features)),\n",
    "                    (name + \"relu1\", nn.ReLU(inplace=True)),\n",
    "                    (\n",
    "                        name + \"conv2\",\n",
    "                        nn.Conv2d(\n",
    "                            in_channels=features,\n",
    "                            out_channels=features,\n",
    "                            kernel_size=3,\n",
    "                            padding=1,\n",
    "                            bias=False,\n",
    "                        ),\n",
    "                    ),\n",
    "                    (name + \"norm2\", nn.BatchNorm2d(num_features=features)),\n",
    "                    (name + \"relu2\", nn.ReLU(inplace=True)),\n",
    "                ]\n",
    "            )\n",
    "        )"
   ]
  },
  {
   "cell_type": "markdown",
   "id": "42893d6f",
   "metadata": {},
   "source": [
    "## Reading in Data"
   ]
  },
  {
   "cell_type": "code",
   "execution_count": 49,
   "id": "e228cf21",
   "metadata": {},
   "outputs": [],
   "source": [
    "batch_raw = unpickle('cifar-10-batches-py/data_batch_1')\n",
    "\n",
    "batch = dict()\n",
    "for key in batch_raw.keys():\n",
    "    batch[str(key)[2:-1]] = batch_raw[key]\n",
    "\n",
    "idx = 0\n",
    "    \n",
    "r = batch['data'][idx][:1024].reshape((32,32))\n",
    "g = batch['data'][idx][1024:1024*2].reshape((32,32))\n",
    "b = batch['data'][idx][1024*2:1024*3].reshape((32,32))\n",
    "\n",
    "image = torch.zeros((32,32,3))\n",
    "image[:,:,0] = torch.from_numpy(r)\n",
    "image[:,:,1] = torch.from_numpy(g)\n",
    "image[:,:,2] = torch.from_numpy(b)"
   ]
  },
  {
   "cell_type": "markdown",
   "id": "d44a5af8",
   "metadata": {},
   "source": [
    "## A Single Forward Pass Through a U-net"
   ]
  },
  {
   "cell_type": "code",
   "execution_count": 50,
   "id": "07a66dcc",
   "metadata": {},
   "outputs": [
    {
     "name": "stdout",
     "output_type": "stream",
     "text": [
      "Size of input:\n",
      "torch.Size([1, 3, 32, 32])\n",
      "\n",
      "Size of Enc1 output:\n",
      "torch.Size([1, 32, 32, 32])\n",
      "\n",
      "Size of Enc2 output:\n",
      "torch.Size([1, 64, 16, 16])\n",
      "\n",
      "Size of Enc3 output:\n",
      "torch.Size([1, 128, 8, 8])\n",
      "\n",
      "Size of Enc4 output:\n",
      "torch.Size([1, 256, 4, 4])\n",
      "\n",
      "Size of Bottleneck output:\n",
      "torch.Size([1, 512, 2, 2])\n",
      "\n",
      "Size of dec4 output:\n",
      "torch.Size([1, 256, 4, 4])\n",
      "\n",
      "Size of dec3 input pre cat:\n",
      "torch.Size([1, 128, 8, 8])\n",
      "\n",
      "Size of dec3 input post cat:\n",
      "torch.Size([1, 256, 8, 8])\n",
      "\n",
      "Size of dec3 output:\n",
      "torch.Size([1, 128, 8, 8])\n",
      "\n",
      "Size of dec2 output:\n",
      "torch.Size([1, 64, 16, 16])\n",
      "\n",
      "Size of dec1 output:\n",
      "torch.Size([1, 32, 32, 32])\n",
      "\n",
      "Size of output:\n",
      "torch.Size([1, 1, 32, 32])\n"
     ]
    },
    {
     "data": {
      "image/png": "[encoded data removed]",
      "text/plain": [
       "<Figure size 640x480 with 2 Axes>"
      ]
     },
     "metadata": {},
     "output_type": "display_data"
    }
   ],
   "source": [
    "net = UNet()\n",
    "\n",
    "out = net.forward(image.reshape(1,3,32,32))\n",
    "\n",
    "print(\"Size of output:\")\n",
    "print(out.size())\n",
    "\n",
    "plt.imshow(out.reshape(32,32).detach().numpy())\n",
    "plt.colorbar()\n",
    "plt.show()\n"
   ]
  },
  {
   "cell_type": "code",
   "execution_count": 53,
   "id": "5595b730",
   "metadata": {},
   "outputs": [
    {
     "name": "stdout",
     "output_type": "stream",
     "text": [
      "Size of input:\n",
      "torch.Size([1, 3, 32, 32])\n",
      "\n",
      "Size of Enc1 output:\n",
      "torch.Size([1, 32, 32, 32])\n",
      "\n",
      "Size of Enc2 output:\n",
      "torch.Size([1, 64, 16, 16])\n",
      "\n",
      "Size of Enc3 output:\n",
      "torch.Size([1, 128, 8, 8])\n",
      "\n",
      "Size of Enc4 output:\n",
      "torch.Size([1, 256, 4, 4])\n",
      "\n",
      "Size of Bottleneck output:\n",
      "torch.Size([1, 512, 2, 2])\n",
      "\n",
      "Size of dec4 output:\n",
      "torch.Size([1, 256, 4, 4])\n",
      "\n",
      "Size of dec3 input pre cat:\n",
      "torch.Size([1, 128, 8, 8])\n",
      "\n",
      "Size of dec3 input post cat:\n",
      "torch.Size([1, 256, 8, 8])\n",
      "\n",
      "Size of dec3 output:\n",
      "torch.Size([1, 128, 8, 8])\n",
      "\n",
      "Size of dec2 output:\n",
      "torch.Size([1, 64, 16, 16])\n",
      "\n",
      "Size of dec1 output:\n",
      "torch.Size([1, 32, 32, 32])\n",
      "\n"
     ]
    },
    {
     "data": {
      "text/plain": [
       "tensor([[[[0.4940, 0.4773, 0.5187,  ..., 0.3459, 0.3935, 0.6164],\n",
       "          [0.6728, 0.4444, 0.5272,  ..., 0.5856, 0.4750, 0.6168],\n",
       "          [0.4145, 0.4874, 0.5851,  ..., 0.5112, 0.3838, 0.4993],\n",
       "          ...,\n",
       "          [0.3605, 0.3890, 0.5540,  ..., 0.4530, 0.4595, 0.5215],\n",
       "          [0.4210, 0.5271, 0.5651,  ..., 0.4638, 0.3507, 0.5532],\n",
       "          [0.4825, 0.3686, 0.5225,  ..., 0.4402, 0.4742, 0.6072]]]],\n",
       "       grad_fn=<SigmoidBackward0>)"
      ]
     },
     "execution_count": 53,
     "metadata": {},
     "output_type": "execute_result"
    }
   ],
   "source": [
    "net(image.reshape(1,3,32,32))"
   ]
  },
  {
   "cell_type": "code",
   "execution_count": null,
   "id": "b192c9a6",
   "metadata": {},
   "outputs": [],
   "source": []
  }
 ],
 "metadata": {
  "kernelspec": {
   "display_name": "Python 3 (ipykernel)",
   "language": "python",
   "name": "python3"
  },
  "language_info": {
   "codemirror_mode": {
    "name": "ipython",
    "version": 3
   },
   "file_extension": ".py",
   "mimetype": "text/x-python",
   "name": "python",
   "nbconvert_exporter": "python",
   "pygments_lexer": "ipython3",
   "version": "3.10.9"
  }
 },
 "nbformat": 4,
 "nbformat_minor": 5
}
